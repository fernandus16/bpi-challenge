{
 "cells": [
  {
   "cell_type": "markdown",
   "metadata": {},
   "source": [
    "### loading the XES file as dict with lxml"
   ]
  },
  {
   "cell_type": "code",
   "execution_count": 1,
   "metadata": {
    "collapsed": true
   },
   "outputs": [],
   "source": [
    "from lxml import objectify\n",
    "import dateutil.parser\n",
    "import pickle\n",
    "import os\n",
    "\n",
    "\n",
    "def load_as_xml():\n",
    "    xes_as_xml = objectify.fromstring(open(\"BPI Challenge 2018.xes\", 'r').read())\n",
    "    return xes_as_xml\n",
    "\n",
    "\n",
    "def load_as_dict(year):\n",
    "    json_file = \"BP_Challenge_2018-%s.pickle\" % year\n",
    "\n",
    "    # if the dict already exists\n",
    "    if os.path.isfile(json_file):\n",
    "        print \"Loading data from file\"\n",
    "        return pickle.load(open(json_file))\n",
    "\n",
    "    # loading the xes file\n",
    "    xes_xml = objectify.fromstring(open(\"BPI Challenge 2018.xes\", 'r').read())\n",
    "    print \"XES file loaded\"\n",
    "\n",
    "    xes_as_dict = {}\n",
    "    for trace in xes_xml.trace:\n",
    "        # converting basic elements\n",
    "        trace_dict = extract_basic_elements(trace)\n",
    "\n",
    "        if int(trace_dict['year']) != year:\n",
    "            continue\n",
    "\n",
    "        # converting events and saving in list\n",
    "        trace_dict['event'] = [extract_basic_elements(e) for e in trace.event]\n",
    "        # ordering event list by date\n",
    "        trace_dict['event'].sort(key=lambda x: x['time:timestamp'])\n",
    "        \n",
    "        # appending trace to dict\n",
    "        xes_as_dict[trace_dict['identity:id']] = trace_dict\n",
    "    \n",
    "    print \"Dict file created\"\n",
    "    # to free up memory\n",
    "    del xes_xml\n",
    "\n",
    "    # saving dict into file\n",
    "    with open(json_file, 'w') as f:\n",
    "      pickle.dump(xes_as_dict, f)\n",
    "\n",
    "    print \"Dict file saved as %s\" % json_file\n",
    "    return xes_as_dict\n",
    "\n",
    "\n",
    "def extract_basic_elements(element):\n",
    "    d_elem = {}\n",
    "\n",
    "    if element.xpath('id'):\n",
    "        for id_element in element.id:\n",
    "            d_elem[id_element.get('key')] = id_element.get('value')\n",
    "\n",
    "    if element.xpath('int'):\n",
    "        for int_element in element.int:\n",
    "            d_elem[int_element.get('key')] = int(int_element.get('value'))\n",
    "\n",
    "    if element.xpath('string'):\n",
    "        for str_element in element.string:\n",
    "            d_elem[str_element.get('key')] = str_element.get('value')\n",
    "\n",
    "    if element.xpath('boolean'):\n",
    "        for bool_element in element.boolean:\n",
    "            d_elem[bool_element.get('key')] = 1 if bool_element.get('value') == 'true' else 0\n",
    "\n",
    "    if element.xpath('date'):\n",
    "        for date_element in element.date:\n",
    "            d_elem[date_element.get('key')] = dateutil.parser.parse(date_element.get('value'))\n",
    "\n",
    "    if element.xpath('float'):\n",
    "        for float_element in element.float:\n",
    "            d_elem[float_element.get('key')] = float(float_element.get('value'))\n",
    "\n",
    "    return d_elem\n"
   ]
  },
  {
   "cell_type": "markdown",
   "metadata": {},
   "source": [
    "## Apenas 2015"
   ]
  },
  {
   "cell_type": "code",
   "execution_count": 64,
   "metadata": {},
   "outputs": [
    {
     "name": "stdout",
     "output_type": "stream",
     "text": [
      "Loading data from file\n"
     ]
    }
   ],
   "source": [
    "xes_as_dict_2015 = load_as_dict(2015)"
   ]
  },
  {
   "cell_type": "code",
   "execution_count": null,
   "metadata": {
    "collapsed": true
   },
   "outputs": [],
   "source": [
    "qtd_trace = len(xes_as_dict_2015.keys())\n",
    "print \"Total de casos: \", qtd_trace"
   ]
  },
  {
   "cell_type": "code",
   "execution_count": 66,
   "metadata": {},
   "outputs": [
    {
     "name": "stdout",
     "output_type": "stream",
     "text": [
      "Total de casos apos remocao:  14750\n"
     ]
    }
   ],
   "source": [
    "# convertendo em lista de casos e filtrando\n",
    "casos_2015 = []\n",
    "for key, caso in xes_as_dict_2015.items():\n",
    "#     if caso['event'][-1]['activity'] == 'finish payment':\n",
    "    # adiciona a data do primeiro, do ultimo evento e o interval em dias\n",
    "    if caso.get('event'):\n",
    "        caso['finish payment'] = 1 if caso['event'][-1]['activity'] == 'finish payment' else 0\n",
    "        caso['start_time'] = caso['event'][0]['time:timestamp']\n",
    "        caso['end_time'] = caso['event'][-1]['time:timestamp']\n",
    "        caso['tot_events'] = len(caso['event'])\n",
    "        delta = caso['event'][-1]['time:timestamp'] - caso['event'][0]['time:timestamp']\n",
    "        caso['delta_time'] = delta.days\n",
    "        casos_2015.append(caso)\n",
    "\n",
    "# ordenando os casos por data de inicio\n",
    "casos_2015.sort(key=lambda x: x['start_time'])\n",
    "print \"Total de casos apos remocao: \", len(casos_2015)"
   ]
  },
  {
   "cell_type": "markdown",
   "metadata": {},
   "source": [
    "#### Coletando apenas os eventos"
   ]
  },
  {
   "cell_type": "code",
   "execution_count": 67,
   "metadata": {},
   "outputs": [
    {
     "name": "stdout",
     "output_type": "stream",
     "text": [
      "Total de eventos:  897813\n"
     ]
    }
   ],
   "source": [
    "eventos = []\n",
    "for caso in casos_2015:\n",
    "    eventos += caso['event']\n",
    "print \"Total de eventos: \", len(eventos)"
   ]
  },
  {
   "cell_type": "markdown",
   "metadata": {},
   "source": [
    "#### Coletando apenas os atributos dos casos"
   ]
  },
  {
   "cell_type": "code",
   "execution_count": 68,
   "metadata": {},
   "outputs": [
    {
     "name": "stdout",
     "output_type": "stream",
     "text": [
      "{'program-id': '215', 'applicant': '88dc21ca7a587c35', 'penalty_AGP': False, 'penalty_BGK': False, 'penalty_AVJLP': False, 'year': '2015', 'finish payment': 1, 'concept:name': 'cb3425ce193199d7', 'penalty_BGP': False, 'basic payment': True, 'penalty_AJLP': False, 'greening': True, 'penalty_AVGP': False, 'penalty_C16': False, 'penalty_B16': False, 'penalty_AVBP': False, 'area': 6.8887, 'risk_factor': 1.0, 'selected_manually': False, 'application': 'cb3425ce193199d7', 'penalty_C9': False, 'cross_compliance': 0.0, 'tot_events': 40, 'department': 'e7', 'penalty_C4': False, 'selected_random': False, 'amount_applied0': 2371.85, 'penalty_AUVP': False, 'penalty_B5': False, 'start_time': datetime.datetime(2014, 5, 4, 0, 0, tzinfo=tzoffset(None, 7200)), 'delta_time': 655, 'penalty_amount0': 0.0, 'rejected': False, 'penalty_AVUVP': False, 'penalty_CC': False, 'penalty_V5': False, 'penalty_BGKV': False, 'penalty_B5F': False, 'selected_risk': False, 'penalty_GP1': False, 'small farmer': False, 'penalty_JLP5': False, 'penalty_JLP6': False, 'penalty_JLP7': False, 'identity:id': '0C349418-9098-4F8E-9417-6FF6EF0532D9', 'penalty_JLP1': False, 'penalty_JLP2': False, 'penalty_JLP3': False, 'payment_actual0': 2371.74, 'end_time': datetime.datetime(2016, 2, 18, 7, 56, 0, 788000, tzinfo=tzoffset(None, 3600)), 'penalty_ABP': False, 'penalty_B6': False, 'penalty_B4': False, 'redistribution': True, 'penalty_B2': False, 'penalty_B3': False, 'number_parcels': 5, 'young farmer': False}\n"
     ]
    }
   ],
   "source": [
    "for caso in casos_2015:\n",
    "    caso.pop('event')\n",
    "print casos_2015[0]"
   ]
  },
  {
   "cell_type": "code",
   "execution_count": 69,
   "metadata": {},
   "outputs": [],
   "source": [
    "count_attr = [len(j.keys()) for j in casos_2015]"
   ]
  },
  {
   "cell_type": "code",
   "execution_count": 72,
   "metadata": {},
   "outputs": [
    {
     "data": {
      "text/plain": [
       "67"
      ]
     },
     "execution_count": 72,
     "metadata": {},
     "output_type": "execute_result"
    }
   ],
   "source": [
    "max(count_attr)"
   ]
  },
  {
   "cell_type": "code",
   "execution_count": 70,
   "metadata": {},
   "outputs": [
    {
     "name": "stdout",
     "output_type": "stream",
     "text": [
      "4886\n"
     ]
    }
   ],
   "source": [
    "print count_attr.index(max(count_attr))"
   ]
  },
  {
   "cell_type": "code",
   "execution_count": 71,
   "metadata": {},
   "outputs": [],
   "source": [
    "import csv\n",
    "\n",
    "keys = casos_2015[4886].keys()\n",
    "with open('casos_attr_2015.csv', 'wb') as output_file:\n",
    "    dict_writer = csv.DictWriter(output_file, keys)\n",
    "    dict_writer.writeheader()\n",
    "    dict_writer.writerows(casos_2015)"
   ]
  },
  {
   "cell_type": "code",
   "execution_count": null,
   "metadata": {
    "collapsed": true
   },
   "outputs": [],
   "source": []
  }
 ],
 "metadata": {
  "kernelspec": {
   "display_name": "Python 2",
   "language": "python",
   "name": "python2"
  },
  "language_info": {
   "codemirror_mode": {
    "name": "ipython",
    "version": 2
   },
   "file_extension": ".py",
   "mimetype": "text/x-python",
   "name": "python",
   "nbconvert_exporter": "python",
   "pygments_lexer": "ipython2",
   "version": "2.7.13"
  }
 },
 "nbformat": 4,
 "nbformat_minor": 2
}
