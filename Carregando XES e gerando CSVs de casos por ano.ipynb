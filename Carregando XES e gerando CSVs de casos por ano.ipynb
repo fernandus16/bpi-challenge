{
 "cells": [
  {
   "cell_type": "markdown",
   "metadata": {},
   "source": [
    "## loading the XES file as dict with lxml"
   ]
  },
  {
   "cell_type": "code",
   "execution_count": 1,
   "metadata": {},
   "outputs": [],
   "source": [
    "from lxml import objectify\n",
    "import dateutil.parser\n",
    "import pickle\n",
    "import os\n",
    "\n",
    "\n",
    "def load_as_xml():\n",
    "    xes_as_xml = objectify.fromstring(open(\"BPI Challenge 2018.xes\", 'r').read())\n",
    "    return xes_as_xml\n",
    "\n",
    "\n",
    "def load_as_dict(year):\n",
    "    json_file = \"BP_Challenge_2018-%s.pickle\" % year\n",
    "\n",
    "    # se o arquivo ja existe, apenas carregar e returnar o conteudo\n",
    "    if os.path.isfile(json_file):\n",
    "        print \"Loading data from file\"\n",
    "        return pickle.load(open(json_file))\n",
    "\n",
    "    # carregando arquivo .XES\n",
    "    xes_xml = objectify.fromstring(open(\"BPI Challenge 2018.xes\", 'r').read())\n",
    "    print \"XES file loaded\"\n",
    "\n",
    "    xes_as_dict = {}\n",
    "    for trace in xes_xml.trace:\n",
    "        # convertendo elementos\n",
    "        trace_dict = extract_basic_elements(trace)\n",
    "\n",
    "        if int(trace_dict['year']) != year:\n",
    "            continue\n",
    "\n",
    "        # convertendo e salvando em lista os eventos\n",
    "        trace_dict['event'] = [extract_basic_elements(e) for e in trace.event]\n",
    "        # ordenando eventos pela data\n",
    "        trace_dict['event'].sort(key=lambda x: x['time:timestamp'])\n",
    "\n",
    "        xes_as_dict[trace_dict['identity:id']] = trace_dict\n",
    "    \n",
    "    print \"Dict file created\"\n",
    "    # liberando memoria\n",
    "    del xes_xml\n",
    "\n",
    "    # salvando dict em arquivo para evitar futuros reprocessamentos\n",
    "    with open(json_file, 'w') as f:\n",
    "      pickle.dump(xes_as_dict, f)\n",
    "\n",
    "    print \"Dict file saved as %s\" % json_file\n",
    "    return xes_as_dict\n",
    "\n",
    "\n",
    "def extract_basic_elements(element):\n",
    "    d_elem = {}\n",
    "\n",
    "    if element.xpath('id'):\n",
    "        for id_element in element.id:\n",
    "            d_elem[id_element.get('key')] = id_element.get('value')\n",
    "\n",
    "    if element.xpath('int'):\n",
    "        for int_element in element.int:\n",
    "            d_elem[int_element.get('key')] = int(int_element.get('value'))\n",
    "\n",
    "    if element.xpath('string'):\n",
    "        for str_element in element.string:\n",
    "            d_elem[str_element.get('key')] = str_element.get('value')\n",
    "\n",
    "    if element.xpath('boolean'):\n",
    "        for bool_element in element.boolean:\n",
    "            d_elem[bool_element.get('key')] = 1 if bool_element.get('value') == 'true' else 0\n",
    "\n",
    "    if element.xpath('date'):\n",
    "        for date_element in element.date:\n",
    "            d_elem[date_element.get('key')] = dateutil.parser.parse(date_element.get('value'))\n",
    "\n",
    "    if element.xpath('float'):\n",
    "        for float_element in element.float:\n",
    "            d_elem[float_element.get('key')] = float(float_element.get('value'))\n",
    "\n",
    "    return d_elem\n"
   ]
  },
  {
   "cell_type": "markdown",
   "metadata": {},
   "source": [
    "### Carregando os casos por ano"
   ]
  },
  {
   "cell_type": "code",
   "execution_count": 2,
   "metadata": {},
   "outputs": [],
   "source": [
    "# APENAS 2017!!!\n",
    "year = 2017  # basta alterar o ano e executar as celulas abaixo para gerar novos CSVs"
   ]
  },
  {
   "cell_type": "code",
   "execution_count": 3,
   "metadata": {},
   "outputs": [
    {
     "name": "stdout",
     "output_type": "stream",
     "text": [
      "XES file loaded\n",
      "Dict file created\n",
      "Dict file saved as BP_Challenge_2018-2017.pickle\n"
     ]
    }
   ],
   "source": [
    "xes_as_dict_year = load_as_dict(year)"
   ]
  },
  {
   "cell_type": "code",
   "execution_count": 4,
   "metadata": {},
   "outputs": [
    {
     "name": "stdout",
     "output_type": "stream",
     "text": [
      "Total de casos:  14507\n"
     ]
    }
   ],
   "source": [
    "qtd_trace = len(xes_as_dict_year.keys())\n",
    "print \"Total de casos: \", qtd_trace"
   ]
  },
  {
   "cell_type": "code",
   "execution_count": 5,
   "metadata": {},
   "outputs": [
    {
     "name": "stdout",
     "output_type": "stream",
     "text": [
      "Total de casos apos remocao:  14507\n"
     ]
    }
   ],
   "source": [
    "# convertendo em lista de casos e filtrando\n",
    "casos_year = []\n",
    "\n",
    "for key, caso in xes_as_dict_year.items():\n",
    "    # se o caso tem pelo menos um evento registrado\n",
    "    if caso.get('event'):\n",
    "\n",
    "        # se o ultimo evento foi o finish payment (1) ou nao (0)\n",
    "        caso['finish payment'] = 1 if caso['event'][-1]['activity'] == 'finish payment' else 0\n",
    "        # data de registro do primeiro evento\n",
    "        caso['start_time'] = caso['event'][0]['time:timestamp']\n",
    "        # data de registro do ultimo evento\n",
    "        caso['end_time'] = caso['event'][-1]['time:timestamp']\n",
    "        # total de eventos\n",
    "        caso['tot_events'] = len(caso['event'])\n",
    "        # intervalo de tempo entre o primeiro e ultimo evento\n",
    "        delta = caso['event'][-1]['time:timestamp'] - caso['event'][0]['time:timestamp']\n",
    "        caso['delta_time'] = delta.days\n",
    "        # intervalo medio de tempo entre eventos\n",
    "        caso['avg_event_interval'] = len(caso['event']) / float(delta.days)\n",
    "\n",
    "        casos_year.append(caso)\n",
    "\n",
    "# ordenando os casos por data de inicio\n",
    "casos_year.sort(key=lambda x: x['start_time'])\n",
    "print \"Total de casos apos remocao: \", len(casos_year)"
   ]
  },
  {
   "cell_type": "markdown",
   "metadata": {},
   "source": [
    "#### Coletando apenas os eventos"
   ]
  },
  {
   "cell_type": "code",
   "execution_count": 6,
   "metadata": {},
   "outputs": [
    {
     "name": "stdout",
     "output_type": "stream",
     "text": [
      "Total de eventos:  852610\n"
     ]
    }
   ],
   "source": [
    "eventos = []\n",
    "for caso in casos_year:\n",
    "    eventos += caso['event']\n",
    "print \"Total de eventos: \", len(eventos)"
   ]
  },
  {
   "cell_type": "markdown",
   "metadata": {},
   "source": [
    "#### Coletando apenas os atributos dos casos e salvando em arquivo"
   ]
  },
  {
   "cell_type": "code",
   "execution_count": 7,
   "metadata": {},
   "outputs": [
    {
     "name": "stdout",
     "output_type": "stream",
     "text": [
      "62 features found\n"
     ]
    }
   ],
   "source": [
    "import csv\n",
    "\n",
    "# removendo os eventos (preparando os casos)\n",
    "for caso in casos_year:\n",
    "    caso.pop('event')\n",
    "\n",
    "# verificando caso com o maior numero de atributos\n",
    "count_attr = [len(j.keys()) for j in casos_year]\n",
    "# indice do caso\n",
    "idx_max = count_attr.index(max(count_attr))\n",
    "\n",
    "# convertendo dict em arquivo csv (keys ~> colunas)\n",
    "keys = casos_year[idx_max].keys()\n",
    "print \"%s features found\" % len(keys)\n",
    "with open('casos_attr_%s.csv' % year, 'wb') as output_file:\n",
    "    dict_writer = csv.DictWriter(output_file, keys)\n",
    "    dict_writer.writeheader()\n",
    "    dict_writer.writerows(casos_year)"
   ]
  },
  {
   "cell_type": "code",
   "execution_count": null,
   "metadata": {},
   "outputs": [],
   "source": []
  }
 ],
 "metadata": {
  "kernelspec": {
   "display_name": "Python 2",
   "language": "python",
   "name": "python2"
  },
  "language_info": {
   "codemirror_mode": {
    "name": "ipython",
    "version": 2
   },
   "file_extension": ".py",
   "mimetype": "text/x-python",
   "name": "python",
   "nbconvert_exporter": "python",
   "pygments_lexer": "ipython2",
   "version": "2.7.14"
  }
 },
 "nbformat": 4,
 "nbformat_minor": 2
}
